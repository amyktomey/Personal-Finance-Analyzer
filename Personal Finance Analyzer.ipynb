{
 "cells": [
  {
   "cell_type": "markdown",
   "id": "fc16130c",
   "metadata": {},
   "source": [
    "Personal Finance Analyzer"
   ]
  },
  {
   "cell_type": "code",
   "execution_count": null,
   "id": "f4e36733",
   "metadata": {},
   "outputs": [
    {
     "name": "stdout",
     "output_type": "stream",
     "text": [
      "COOL!\n",
      "transaction_id,date,customer_id,amount,type,description\n",
      "\n",
      "1,2020-10-26,926,6478.39,credit,Expect series shake art again our.\n",
      "\n",
      "2,2020-01-08,466,1255.95,credit,Each left similar likely coach take.\n",
      "\n",
      "3,2019-09-02,110,7969.68,debit,Direction wife job pull determine leader move college.\n",
      "\n",
      "4,2020-12-02,142,2927.41,credit,Agree reveal buy black already.\n",
      "\n",
      "5,2020-12-02,944,4661.88,debit,Child relationship show college whom speech.\n",
      "\n",
      "\n",
      "\n"
     ]
    },
    {
     "data": {
      "text/plain": [
       "[]"
      ]
     },
     "execution_count": 102,
     "metadata": {},
     "output_type": "execute_result"
    }
   ],
   "source": [
    "import csv\n",
    "from datetime import datetime\n",
    "\n",
    "#def load_transactions(filename='financial_transactions.csv'):\n",
    "def load_transactions(filename='transactions_test_file.csv'):\n",
    "    \"\"\"Load transactions from a CSV file into a list of dictionaries.\"\"\"\n",
    "    transactions = []\n",
    "    try:\n",
    "# Open file with 'with' statement\n",
    "        with open(filename) as csvdatafile:    \n",
    "#  Use csv.DictReader and create dictionary with all fields\n",
    "            reader = csv.DictReader(csvdatafile)\n",
    "            print(\"COOL!\")\n",
    "# print out keys\n",
    "            for keys in csvdatafile:\n",
    "                print(keys)  \n",
    "# keys = ['transaction_id','date','customer_id','amount','type','description']\n",
    "            # For each row:\n",
    "            for line in csvdatafile:\n",
    "                line = line.replace(\"\\n\",\"\")  \n",
    "                parts = line.split(\",\")\n",
    "                print(parts)\n",
    "                print(\"So far, so good!\")\n",
    "#   Parse date with datetime.strptime\n",
    "                for date in csvdatafile:\n",
    "                    date = datetime.strptime([date], '%Y-%m-%d')\n",
    "                    print(\"We got this!\")\n",
    "    #   Make amount negative for 'debit'\n",
    "                for type in csvdatafile:\n",
    "                    while type == \"debit\":\n",
    "                        amount = amount * -1\n",
    "                        print(amount) #test for change\n",
    "                    else:\n",
    "                        pass\n",
    "    #   Add to transactions\n",
    "                    transactions.extend(line)\n",
    "        return transactions \n",
    "\n",
    "# Catch FileNotFoundError, ValueError\n",
    "    except FileNotFoundError:\n",
    "        print(\"File not found\")\n",
    "    except csv.Error as ooops:\n",
    "        print(f\"CSV error: {ooops}\")  \n",
    "\n",
    "load_transactions()\n"
   ]
  }
 ],
 "metadata": {
  "kernelspec": {
   "display_name": "base",
   "language": "python",
   "name": "python3"
  },
  "language_info": {
   "codemirror_mode": {
    "name": "ipython",
    "version": 3
   },
   "file_extension": ".py",
   "mimetype": "text/x-python",
   "name": "python",
   "nbconvert_exporter": "python",
   "pygments_lexer": "ipython3",
   "version": "3.8.8"
  }
 },
 "nbformat": 4,
 "nbformat_minor": 5
}
