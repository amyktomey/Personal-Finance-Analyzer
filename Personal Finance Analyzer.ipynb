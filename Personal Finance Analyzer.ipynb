{
 "cells": [
  {
   "cell_type": "markdown",
   "id": "fc16130c",
   "metadata": {},
   "source": [
    "Personal Finance Analyzer"
   ]
  },
  {
   "cell_type": "code",
   "execution_count": null,
   "id": "f4e36733",
   "metadata": {},
   "outputs": [],
   "source": [
    "import csv\n",
    "from datetime import datetime\n",
    "\n",
    "#def load_transactions(filename='financial_transactions.csv'):\n",
    "def load_transactions(filename='transactions_test_file.csv'):\n",
    "    \"\"\"Load transactions from a CSV file into a list of dictionaries.\"\"\"\n",
    "    transactions = []\n",
    "# Open file with 'with' statement\n",
    "    with open(filename) as csvdatafile:    \n",
    "#  Use csv.DictReader and create dictionary with all fields\n",
    "        reader = csv.DictReader(csvdatafile)\n",
    "        print(\"COOL!\")\n",
    "# testing keys  *delete at later date\n",
    "        for keys in csvdatafile:\n",
    "            print(keys)  \n",
    "# keys = ['transaction_id','date','customer_id','amount','type','description']\n",
    "            # For each row:\n",
    "        for line in csvdatafile:\n",
    "            line = line.replace(\"\\n\",\"\")  \n",
    "            parts = line.split(\",\")\n",
    "            print(parts)\n",
    "#   Parse date with datetime.strptime\n",
    "            date = datetime.strptime([date], '%Y-%m-%d')\n",
    "            print(\"We got this!\") #another check here\n",
    "    #   Make amount negative for 'debit'\n",
    "            for type in csvdatafile:\n",
    "                while type == \"debit\":\n",
    "                    amount = amount * -1\n",
    "                    print(amount) #test for change\n",
    "                else:\n",
    "                    continue\n",
    "            print(\"So far, so good!\")\n",
    "    #   Add to transactions\n",
    "            description = csvdatafile(description)\n",
    "            transaction = {\n",
    "                'date': date,\n",
    "                'amount': amount,\n",
    "                'description': description\n",
    "            }\n",
    "            transactions.extend(transaction)\n",
    "        return transactions \n",
    "\"\"\"     try:\n",
    "# Catch FileNotFoundError, ValueError\n",
    "    except FileNotFoundError:\n",
    "        print(\"File not found\")\n",
    "    except csv.Error as ooops:\n",
    "        print(f\"CSV error: {ooops}\")  \n",
    "        \n",
    " \"\"\"\n",
    "load_transactions()\n"
   ]
  }
 ],
 "metadata": {
  "kernelspec": {
   "display_name": "base",
   "language": "python",
   "name": "python3"
  },
  "language_info": {
   "codemirror_mode": {
    "name": "ipython",
    "version": 3
   },
   "file_extension": ".py",
   "mimetype": "text/x-python",
   "name": "python",
   "nbconvert_exporter": "python",
   "pygments_lexer": "ipython3",
   "version": "3.8.8"
  }
 },
 "nbformat": 4,
 "nbformat_minor": 5
}
